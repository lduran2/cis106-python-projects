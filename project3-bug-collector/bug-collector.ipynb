{
 "cells": [
  {
   "cell_type": "markdown",
   "metadata": {},
   "source": [
    "# CIS 106 Project 3 Bug Collector\n",
    "## The flowchart"
   ]
  },
  {
   "cell_type": "code",
   "execution_count": 8,
   "metadata": {},
   "outputs": [
    {
     "data": {
      "text/html": [
       "\n",
       "        <iframe\n",
       "            width=\"800\"\n",
       "            height=\"400\"\n",
       "            src=\"./project3.pdf\"\n",
       "            frameborder=\"0\"\n",
       "            allowfullscreen\n",
       "        ></iframe>\n",
       "        "
      ],
      "text/plain": [
       "<IPython.lib.display.IFrame at 0x802d4855f8>"
      ]
     },
     "execution_count": 8,
     "metadata": {},
     "output_type": "execute_result"
    }
   ],
   "source": [
    "from IPython.display import IFrame\n",
    "IFrame('./project3.pdf', width=800, height=400)"
   ]
  },
  {
   "cell_type": "markdown",
   "metadata": {},
   "source": [
    "## The program"
   ]
  },
  {
   "cell_type": "code",
   "execution_count": 14,
   "metadata": {},
   "outputs": [
    {
     "name": "stdout",
     "output_type": "stream",
     "text": [
      "Please enter the number of bugs for day 1.\n",
      "> -5\n",
      "The number of bugs must be non-negative. Please try again.\n",
      "> -4\n",
      "The number of bugs must be non-negative. Please try again.\n",
      "> 9\n",
      "Please enter the number of bugs for day 2.\n",
      "> 12\n",
      "Please enter the number of bugs for day 3.\n",
      "> 11\n",
      "Please enter the number of bugs for day 4.\n",
      "> 15\n",
      "Please enter the number of bugs for day 5.\n",
      "> 9\n",
      "\n",
      "The total number of bugs for the 5 days is 56.\n",
      "Done.\n"
     ]
    }
   ],
   "source": [
    "'''\n",
    "./project3-bug-collector/bug-collector.py\n",
    "<https://github.com/lduran2/cis106-python-projects/blob/master/project3-bug-collector/bug-collector.py>\n",
    "The Python program, calculates the running total of the bugs collected\n",
    "during a 5 day period.\n",
    "By     : Leomar Duran <https://github.com/lduran2>\n",
    "When   : 2020-10-05t23:22\n",
    "Where  : Community College of Philadelphia\n",
    "For    : CIS 106/Introduction to Programming\n",
    "Version: 1.2\n",
    "Changelog:\n",
    "    1.2 - Implemented the bug collector loops.\n",
    "    1.0 - Created the pseudocode.\n",
    "'''\n",
    "\n",
    "# start\n",
    "\n",
    "# Variables\n",
    "iDay = 0                    # the current day\n",
    "nBugs = 0                   # number of bugs caught on iDay\n",
    "N_DAYS = 5                  # total number of days\n",
    "days = range(1,N_DAYS+1)    # the five days [1, N_DAYS]\n",
    "\n",
    "\n",
    "# Initialize total.\n",
    "total = 0\n",
    "\n",
    "# point P:\n",
    "# Loop through the days.\n",
    "for iDay in days:\n",
    "    # Accept the # bugs for this day.\n",
    "    print('Please enter the number of bugs for day ', iDay, '.', sep='')\n",
    "    nBugs = int(input('> '))\n",
    "    # point Q:\n",
    "    # is the # bugs negative?\n",
    "    while (nBugs < 0):\n",
    "        # Display an error message.\n",
    "        print('The number of bugs must be non-negative. Please try again.')\n",
    "        # Accept the # bugs again.\n",
    "        nBugs = int(input('> '))\n",
    "    # end while (nBugs < 0)\n",
    "    \n",
    "    # Add # bugs to total.\n",
    "    total += nBugs\n",
    "# end for iDay in days\n",
    "\n",
    "# Display the total.\n",
    "print()\n",
    "print('The total number of bugs for the', N_DAYS, 'days', end='')\n",
    "print(' is ', total, '.', sep='')\n",
    "\n",
    "# finish\n",
    "print('Done.')\n"
   ]
  },
  {
   "cell_type": "code",
   "execution_count": null,
   "metadata": {},
   "outputs": [],
   "source": []
  }
 ],
 "metadata": {
  "kernelspec": {
   "display_name": "Python 3",
   "language": "python",
   "name": "python3"
  },
  "language_info": {
   "codemirror_mode": {
    "name": "ipython",
    "version": 3
   },
   "file_extension": ".py",
   "mimetype": "text/x-python",
   "name": "python",
   "nbconvert_exporter": "python",
   "pygments_lexer": "ipython3",
   "version": "3.6.4"
  }
 },
 "nbformat": 4,
 "nbformat_minor": 4
}
