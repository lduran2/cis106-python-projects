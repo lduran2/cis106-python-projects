{
 "cells": [
  {
   "cell_type": "markdown",
   "metadata": {},
   "source": [
    "# CIS 106 Project 3 Bug Collector\n",
    "## The flowchart"
   ]
  },
  {
   "cell_type": "code",
   "execution_count": 8,
   "metadata": {},
   "outputs": [
    {
     "data": {
      "text/html": [
       "\n",
       "        <iframe\n",
       "            width=\"800\"\n",
       "            height=\"400\"\n",
       "            src=\"./project3.pdf\"\n",
       "            frameborder=\"0\"\n",
       "            allowfullscreen\n",
       "        ></iframe>\n",
       "        "
      ],
      "text/plain": [
       "<IPython.lib.display.IFrame at 0x802d4855f8>"
      ]
     },
     "execution_count": 8,
     "metadata": {},
     "output_type": "execute_result"
    }
   ],
   "source": [
    "from IPython.display import IFrame\n",
    "IFrame('./project3.pdf', width=800, height=400)"
   ]
  },
  {
   "cell_type": "markdown",
   "metadata": {},
   "source": [
    "## The program"
   ]
  },
  {
   "cell_type": "code",
   "execution_count": null,
   "metadata": {},
   "outputs": [],
   "source": [
    "'''\n",
    "./project3-bug-collector/bug-collector.ipynb#The-program\n",
    "<https://github.com/lduran2/cis106-python-projects/blob/master/project3-bug-collector/bug-collector.ipynb#The-program>\n",
    "The Python program, calculates the running total of the bugs collected\n",
    "during a 5 day period.\n",
    "By     : Leomar Duran <https://github.com/lduran2>\n",
    "When   : 2020-09-28t23:51\n",
    "Where  : Community College of Philadelphia\n",
    "For    : CIS 106/Introduction to Programming\n",
    "Version: 1.0\n",
    "Changelog:\n",
    "    1.0 - Implemented the day of week finder.\n",
    "'''\n",
    "\n",
    "# start\n",
    "\n",
    "# Variables\n",
    "\n",
    "# Initialize total.\n",
    "\n",
    "# point P:\n",
    "# Loop through the days.\n",
    "\n",
    "    # Accept the # bugs for this day.\n",
    "    \n",
    "    # point Q:\n",
    "    # is the # bugs negative?\n",
    "        # Display an error message.\n",
    "        \n",
    "        # Accept the # bugs again.\n",
    "\n",
    "    #\n",
    "    # Add # bugs to total.\n",
    "#\n",
    "\n",
    "# Display the total.\n",
    "\n",
    "# finish\n"
   ]
  }
 ],
 "metadata": {
  "kernelspec": {
   "display_name": "Python 3",
   "language": "python",
   "name": "python3"
  },
  "language_info": {
   "codemirror_mode": {
    "name": "ipython",
    "version": 3
   },
   "file_extension": ".py",
   "mimetype": "text/x-python",
   "name": "python",
   "nbconvert_exporter": "python",
   "pygments_lexer": "ipython3",
   "version": "3.6.4"
  }
 },
 "nbformat": 4,
 "nbformat_minor": 4
}
