{
 "cells": [
  {
   "cell_type": "markdown",
   "metadata": {},
   "source": [
    "# CIS 106 Project 7 Initials (More about strings)\n",
    "## The flowchart\n",
    "<a href='flow.pdf'><img src='flow.png'></a>\n",
    "## Find the initials function.\n"
   ]
  },
  {
   "cell_type": "code",
   "execution_count": 8,
   "metadata": {},
   "outputs": [],
   "source": [
    "# Constants\n",
    "DEFAULT_MAX_INITIALS = 3    # by default find 3 initials\n",
    "DEFAULT_INITIAL_SEPARATE = '. '\n",
    "\n",
    "def find_initials(string, \\\n",
    "                  max_initials=DEFAULT_MAX_INITIALS, \\\n",
    "                  sep=DEFAULT_INITIAL_SEPARATE):\n",
    "    '''\n",
    "    Finds the initials in a given string.\n",
    "    @param\n",
    "        string -- to search\n",
    "        max_initials -- the number of initials to find (default 3)\n",
    "        sep -- the separator character to use (default '. ')\n",
    "    @return the initials in the string\n",
    "    '''\n",
    "    initials = ''           # the initials found so far\n",
    "    n_initials_found = 0    # the number of initials found so far\n",
    "    is_initial = True       # whether current character will be an initial\n",
    "\n",
    "    # loop through the characters\n",
    "    for ch in string:\n",
    "        # if the current character is a whitespace character\n",
    "        if (ch.isspace()):\n",
    "            # the next character is an initial\n",
    "            is_initial = True\n",
    "        # if the character is an initial\n",
    "        elif (is_initial):\n",
    "            # increment the number of initials found so far\n",
    "            n_initials_found += 1\n",
    "            # append the current character to the initials\n",
    "            initials += ch + sep\n",
    "            # if maximum initials found\n",
    "            if (n_initials_found == max_initials):\n",
    "                # end the loops\n",
    "                break;\n",
    "            # end if (n_initials_found == max_initials)\n",
    "            # reset is_initial\n",
    "            is_initial = False\n",
    "        # end elif (is_initial)\n",
    "    # end for ch in string\n",
    "\n",
    "    # return the initials\n",
    "    return initials\n",
    "# end def find_initials(string, max_initials=DEFAULT_MAX_INITIALS)"
   ]
  },
  {
   "cell_type": "markdown",
   "metadata": {},
   "source": [
    "### Test for the Find the initials() function"
   ]
  },
  {
   "cell_type": "code",
   "execution_count": 10,
   "metadata": {},
   "outputs": [
    {
     "name": "stdout",
     "output_type": "stream",
     "text": [
      "J. W. S. \n",
      "J. J. J. S. \n",
      "SQL\n"
     ]
    }
   ],
   "source": [
    "print(find_initials('John William Smith, major of San Antonio, Texas'))\n",
    "print(find_initials('John Jacob Jingleheimer Schmidt', max_initials=4))\n",
    "print(find_initials('Structured Query Language', sep=''))"
   ]
  },
  {
   "cell_type": "code",
   "execution_count": 14,
   "metadata": {
    "scrolled": true
   },
   "outputs": [
    {
     "name": "stdout",
     "output_type": "stream",
     "text": [
      "Project 7 Initials (More about strings)\n",
      "\n",
      "Accepts a name and returns the first, (middle), and last initials.\n",
      "\n",
      "Please enter your name.\n",
      "> Tony Gaddis\n",
      "Your initials are T. G. \n",
      "Done.\n"
     ]
    }
   ],
   "source": [
    "'''\n",
    "./project7-initals/initials.py\n",
    "Accepts a name and returns the first, (middle), and last initials.\n",
    "\n",
    "By     : Leomar Duran <https://github.com/lduran2>\n",
    "When   : 2020-11-02t19:27\n",
    "Where  : Community College of Philadelphia\n",
    "For    : CIS 106/Introduction to Programming\n",
    "Version: 1.0\n",
    "'''\n",
    "\n",
    "PROMPT = '> '\n",
    "\n",
    "def main():\n",
    "    '''\n",
    "    The main program.\n",
    "    '''\n",
    "    # print the introductory text\n",
    "    intro_initials()\n",
    "    # accept a name string\n",
    "    print('Please enter your name.')\n",
    "    name = input(PROMPT)\n",
    "    # find the initials\n",
    "    initials = find_initials(name)\n",
    "    # print the initials\n",
    "    print('Your initials are', initials)\n",
    "    # finish\n",
    "    print('Done.')\n",
    "# def end main()\n",
    "\n",
    "def intro_initials():\n",
    "    print('Project 7 Initials (More about strings)')\n",
    "    print()\n",
    "    print('Accepts a name and returns the first, (middle), and last initials.')\n",
    "    print()\n",
    "# def intro_initials()\n",
    "\n",
    "# start the program\n",
    "main()\n"
   ]
  }
 ],
 "metadata": {
  "kernelspec": {
   "display_name": "Python 3",
   "language": "python",
   "name": "python3"
  },
  "language_info": {
   "codemirror_mode": {
    "name": "ipython",
    "version": 3
   },
   "file_extension": ".py",
   "mimetype": "text/x-python",
   "name": "python",
   "nbconvert_exporter": "python",
   "pygments_lexer": "ipython3",
   "version": "3.6.4"
  }
 },
 "nbformat": 4,
 "nbformat_minor": 4
}
